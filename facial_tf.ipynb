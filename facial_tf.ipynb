{
 "cells": [
  {
   "cell_type": "code",
   "execution_count": 75,
   "metadata": {},
   "outputs": [],
   "source": [
    "import numpy as np\n",
    "import pandas as pd\n",
    "import tensorflow as tf\n",
    "import matplotlib.pyplot as plt\n",
    "\n",
    "from datetime import datetime\n",
    "from scipy.signal import convolve2d\n",
    "from scipy.io import loadmat\n",
    "from sklearn.utils import shuffle"
   ]
  },
  {
   "cell_type": "code",
   "execution_count": 76,
   "metadata": {},
   "outputs": [],
   "source": [
    "df = pd.read_csv('./fer2013.csv')"
   ]
  },
  {
   "cell_type": "code",
   "execution_count": 77,
   "metadata": {},
   "outputs": [],
   "source": [
    "df_training = df[df.Usage == 'Training']\n",
    "df_public_testing = df[df.Usage == 'PublicTest']\n",
    "df_private_testing = df[df.Usage == 'PrivateTest']"
   ]
  },
  {
   "cell_type": "code",
   "execution_count": 78,
   "metadata": {},
   "outputs": [],
   "source": [
    "X = []\n",
    "\n",
    "for i in range(len(df)):\n",
    "    l = df.pixels[i]\n",
    "    ls = l.split()\n",
    "\n",
    "    for i in range(len(ls)):\n",
    "        ls[i] = float(ls[i])\n",
    "    x = np.reshape(ls, (48, 48))\n",
    "    X.append(x)"
   ]
  },
  {
   "cell_type": "code",
   "execution_count": 79,
   "metadata": {},
   "outputs": [],
   "source": [
    "X = np.asarray(X)"
   ]
  },
  {
   "cell_type": "code",
   "execution_count": 80,
   "metadata": {},
   "outputs": [
    {
     "data": {
      "text/plain": [
       "(35887, 48, 48)"
      ]
     },
     "execution_count": 80,
     "metadata": {},
     "output_type": "execute_result"
    }
   ],
   "source": [
    "X.shape"
   ]
  },
  {
   "cell_type": "code",
   "execution_count": 81,
   "metadata": {},
   "outputs": [],
   "source": [
    "Xtrain = X[ : df_training.shape[0]]\n",
    "Xpublic_test = X[df_training.shape[0]:df_training.shape[0] + df_public_testing.shape[0]]\n",
    "Xprivate_test = X[df_training.shape[0] + df_public_testing.shape[0]: ]"
   ]
  },
  {
   "cell_type": "code",
   "execution_count": 82,
   "metadata": {},
   "outputs": [
    {
     "data": {
      "text/plain": [
       "(28709, 48, 48)"
      ]
     },
     "execution_count": 82,
     "metadata": {},
     "output_type": "execute_result"
    }
   ],
   "source": [
    "Xtrain.shape"
   ]
  },
  {
   "cell_type": "code",
   "execution_count": 83,
   "metadata": {},
   "outputs": [
    {
     "name": "stderr",
     "output_type": "stream",
     "text": [
      "C:\\Users\\hongj\\Anaconda2\\envs\\Tensorflow\\lib\\site-packages\\ipykernel_launcher.py:1: FutureWarning: Method .as_matrix will be removed in a future version. Use .values instead.\n",
      "  \"\"\"Entry point for launching an IPython kernel.\n"
     ]
    }
   ],
   "source": [
    "Y = df.emotion.as_matrix()"
   ]
  },
  {
   "cell_type": "code",
   "execution_count": 84,
   "metadata": {},
   "outputs": [],
   "source": [
    "Ytrain = Y[ : df_training.shape[0]] \n",
    "Ypublic_test = Y[df_training.shape[0]:df_training.shape[0] + df_public_testing.shape[0]] \n",
    "Yprivate_test = Y[df_training.shape[0] + df_public_testing.shape[0]: ] "
   ]
  },
  {
   "cell_type": "code",
   "execution_count": 85,
   "metadata": {},
   "outputs": [],
   "source": [
    "Ytrain = Ytrain.astype(int)\n",
    "Ypublic_test = Ypublic_test.astype(int)\n",
    "Yprivate_test = Yprivate_test.astype(int)"
   ]
  },
  {
   "cell_type": "code",
   "execution_count": 86,
   "metadata": {},
   "outputs": [],
   "source": [
    "label_map = ['Anger', 'Disgust', 'Fear', 'Happy', 'Sad', 'Surprise', 'Neutral']"
   ]
  },
  {
   "cell_type": "code",
   "execution_count": 87,
   "metadata": {},
   "outputs": [],
   "source": [
    "def emotion_indicator(number):\n",
    "    return label_map[number]"
   ]
  },
  {
   "cell_type": "code",
   "execution_count": 88,
   "metadata": {},
   "outputs": [
    {
     "data": {
      "image/png": "[encoded data removed]",
      "text/plain": [
       "<Figure size 432x288 with 1 Axes>"
      ]
     },
     "metadata": {
      "needs_background": "light"
     },
     "output_type": "display_data"
    }
   ],
   "source": [
    "k = 123\n",
    "\n",
    "plt.imshow(Xtrain[k], cmap = 'gray')\n",
    "plt.title(emotion_indicator(Ytrain[k]))\n",
    "plt.show()"
   ]
  },
  {
   "cell_type": "code",
   "execution_count": 89,
   "metadata": {},
   "outputs": [],
   "source": [
    "def reshape(data):\n",
    "    l = []\n",
    "\n",
    "    for i in range(len(data)):\n",
    "        l.append([data[i]])\n",
    "\n",
    "    data = np.asarray(l)\n",
    "    return (data/255.0).astype(np.float32)"
   ]
  },
  {
   "cell_type": "code",
   "execution_count": 90,
   "metadata": {},
   "outputs": [],
   "source": [
    "Xtrain = reshape(Xtrain)\n",
    "Xpublic_test = reshape(Xpublic_test)\n",
    "Xprivate_test = reshape(Xprivate_test)"
   ]
  },
  {
   "cell_type": "code",
   "execution_count": 91,
   "metadata": {},
   "outputs": [
    {
     "data": {
      "text/plain": [
       "(28709, 1, 48, 48)"
      ]
     },
     "execution_count": 91,
     "metadata": {},
     "output_type": "execute_result"
    }
   ],
   "source": [
    "Xtrain.shape"
   ]
  },
  {
   "cell_type": "code",
   "execution_count": 93,
   "metadata": {},
   "outputs": [
    {
     "data": {
      "text/plain": [
       "(3589, 1, 48, 48)"
      ]
     },
     "execution_count": 93,
     "metadata": {},
     "output_type": "execute_result"
    }
   ],
   "source": [
    "Xpublic_test.shape"
   ]
  },
  {
   "cell_type": "code",
   "execution_count": 94,
   "metadata": {},
   "outputs": [],
   "source": [
    "def rearrange(X):\n",
    "    # input is (32, 32, 3, N)\n",
    "    # output is (N, 32, 32, 3)\n",
    "    # N = X.shape[-1]\n",
    "    # out = np.zeros((N, 32, 32, 3), dtype=np.float32)\n",
    "    # for i in xrange(N):\n",
    "    #     for j in xrange(3):\n",
    "    #         out[i, :, :, j] = X[:, :, j, i]\n",
    "    # return out / 255\n",
    "    return X.transpose(0, 2, 3, 1) "
   ]
  },
  {
   "cell_type": "code",
   "execution_count": 95,
   "metadata": {},
   "outputs": [],
   "source": [
    "Xtrain = rearrange(Xtrain)\n",
    "Xpublic_test =rearrange(Xpublic_test)\n",
    "Xprivate_test = rearrange(Xprivate_test)"
   ]
  },
  {
   "cell_type": "code",
   "execution_count": 116,
   "metadata": {},
   "outputs": [
    {
     "data": {
      "text/plain": [
       "(28709, 48, 48, 1)"
      ]
     },
     "execution_count": 116,
     "metadata": {},
     "output_type": "execute_result"
    }
   ],
   "source": [
    "Xtrain.shape"
   ]
  },
  {
   "cell_type": "code",
   "execution_count": 117,
   "metadata": {},
   "outputs": [
    {
     "data": {
      "text/plain": [
       "(3589, 48, 48, 1)"
      ]
     },
     "execution_count": 117,
     "metadata": {},
     "output_type": "execute_result"
    }
   ],
   "source": [
    "Xpublic_test.shape"
   ]
  },
  {
   "cell_type": "code",
   "execution_count": 118,
   "metadata": {},
   "outputs": [],
   "source": [
    "# gradient descent params\n",
    "max_iter = 12\n",
    "print_period = 30\n",
    "N = Xtrain.shape[0]\n",
    "batch_sz = 500\n",
    "n_batches = N // batch_sz"
   ]
  },
  {
   "cell_type": "code",
   "execution_count": 119,
   "metadata": {},
   "outputs": [],
   "source": [
    "# initial weights and same padding for this model\n",
    "M = 500\n",
    "K = 7\n",
    "poolsz = (2, 2)"
   ]
  },
  {
   "cell_type": "code",
   "execution_count": 120,
   "metadata": {},
   "outputs": [],
   "source": [
    "def init_filter(shape, poolsz):\n",
    "    # w = np.random.randn(*shape) * np.sqrt(2) / np.sqrt(np.prod(shape[:-1]) + shape[-1]*np.prod(shape[:-2]) / np.prod(poolsz))\n",
    "    w = np.random.randn(*shape) * np.sqrt(2.0 / np.prod(shape[:-1]))\n",
    "    return w.astype(np.float32)"
   ]
  },
  {
   "cell_type": "code",
   "execution_count": 121,
   "metadata": {},
   "outputs": [],
   "source": [
    "W1_shape = (5, 5, Xtrain.shape[3], 20) # (filter_width, filter_height, num_color_channels, num_feature_maps)\n",
    "W1_init = init_filter(W1_shape, poolsz)\n",
    "b1_init = np.zeros(W1_shape[-1], dtype=np.float32) # one bias per output feature map"
   ]
  },
  {
   "cell_type": "code",
   "execution_count": 122,
   "metadata": {},
   "outputs": [],
   "source": [
    "W2_shape = (5, 5, W1_shape[3], 50) # (filter_width, filter_height, old_num_feature_maps, num_feature_maps)\n",
    "W2_init = init_filter(W2_shape, poolsz)\n",
    "b2_init = np.zeros(W2_shape[-1], dtype=np.float32)"
   ]
  },
  {
   "cell_type": "code",
   "execution_count": 123,
   "metadata": {},
   "outputs": [
    {
     "name": "stdout",
     "output_type": "stream",
     "text": [
      "12\n"
     ]
    }
   ],
   "source": [
    "#same padding\n",
    "\n",
    "ac1 = Xtrain.shape[1]\n",
    "ap1 = ac1 / poolsz[0]\n",
    "ac2 = ap1 \n",
    "ap2 = ac2 / poolsz[0]\n",
    "ap2 = int(ap2)\n",
    "print(ap2)"
   ]
  },
  {
   "cell_type": "code",
   "execution_count": 124,
   "metadata": {},
   "outputs": [],
   "source": [
    "# vanilla ANN weights\n",
    "W3_init = np.random.randn(W2_shape[-1]*ap2*ap2, M) / np.sqrt(W2_shape[-1]*ap2*ap2 + M)\n",
    "b3_init = np.zeros(M, dtype=np.float32)\n",
    "W4_init = np.random.randn(M, K) / np.sqrt(M + K)\n",
    "b4_init = np.zeros(K, dtype=np.float32)"
   ]
  },
  {
   "cell_type": "code",
   "execution_count": 126,
   "metadata": {},
   "outputs": [],
   "source": [
    "# define variables and expressions\n",
    "# using None as the first shape element takes up too much RAM unfortunately\n",
    "X = tf.placeholder(tf.float32, shape=(batch_sz, Xtrain.shape[1], Xtrain.shape[2], Xtrain.shape[3]), name='X')\n",
    "T = tf.placeholder(tf.int32, shape=(batch_sz,), name='T')\n",
    "W1 = tf.Variable(W1_init.astype(np.float32))\n",
    "b1 = tf.Variable(b1_init.astype(np.float32))\n",
    "W2 = tf.Variable(W2_init.astype(np.float32))\n",
    "b2 = tf.Variable(b2_init.astype(np.float32))\n",
    "W3 = tf.Variable(W3_init.astype(np.float32))\n",
    "b3 = tf.Variable(b3_init.astype(np.float32))\n",
    "W4 = tf.Variable(W4_init.astype(np.float32))\n",
    "b4 = tf.Variable(b4_init.astype(np.float32))"
   ]
  },
  {
   "cell_type": "code",
   "execution_count": 127,
   "metadata": {},
   "outputs": [],
   "source": [
    "def convpool(X, W, b):\n",
    "    # just assume pool size is (2,2) because we need to augment it with 1s\n",
    "    conv_out = tf.nn.conv2d(X, W, strides=[1, 1, 1, 1], padding='SAME')\n",
    "    conv_out = tf.nn.bias_add(conv_out, b)\n",
    "    pool_out = tf.nn.max_pool(conv_out, ksize=[1, 2, 2, 1], strides=[1, 2, 2, 1], padding='SAME')\n",
    "    return tf.nn.relu(pool_out)\n",
    "\n",
    "#conv2d\n",
    "#strides: A list of ints. 1-D tensor of length 4. The stride of the sliding window for each dimension of input.\n",
    "#The dimension order is determined by the value of data_format, see below for details.\n",
    "#Must have strides[0] = strides[3] = 1. For the most common case of the same horizontal and vertices strides, \n",
    "# strides = [1, stride, stride, 1]\n",
    "\n",
    "#max_pool\n",
    "#ksize: A list or tuple of 4 ints. The size of the window for each dimension of the input tensor.\n",
    "#strides: A list or tuple of 4 ints. The stride of the sliding window for each dimension of the input tensor."
   ]
  },
  {
   "cell_type": "code",
   "execution_count": 128,
   "metadata": {},
   "outputs": [],
   "source": [
    "Z1 = convpool(X, W1, b1)\n",
    "Z2 = convpool(Z1, W2, b2)\n",
    "Z2_shape = Z2.get_shape().as_list()\n",
    "Z2r = tf.reshape(Z2, [Z2_shape[0], np.prod(Z2_shape[1:])])\n",
    "Z3 = tf.nn.relu( tf.matmul(Z2r, W3) + b3 )\n",
    "Yish = tf.matmul(Z3, W4) + b4"
   ]
  },
  {
   "cell_type": "code",
   "execution_count": 129,
   "metadata": {},
   "outputs": [],
   "source": [
    "cost = tf.reduce_sum(\n",
    "        tf.nn.sparse_softmax_cross_entropy_with_logits(\n",
    "            logits=Yish,\n",
    "            labels=T\n",
    "        )\n",
    "    )"
   ]
  },
  {
   "cell_type": "code",
   "execution_count": 130,
   "metadata": {},
   "outputs": [],
   "source": [
    "train_op = tf.train.RMSPropOptimizer(0.0001, decay=0.99, momentum=0.9).minimize(cost)"
   ]
  },
  {
   "cell_type": "code",
   "execution_count": 131,
   "metadata": {},
   "outputs": [],
   "source": [
    "# we'll use this to calculate the error rate\n",
    "predict_op = tf.argmax(Yish, 1)"
   ]
  },
  {
   "cell_type": "code",
   "execution_count": 132,
   "metadata": {},
   "outputs": [],
   "source": [
    "def error_rate(p, t):\n",
    "    return np.mean(p != t)"
   ]
  },
  {
   "cell_type": "code",
   "execution_count": 133,
   "metadata": {},
   "outputs": [
    {
     "name": "stdout",
     "output_type": "stream",
     "text": [
      "Cost / err at iteration i=0, j=0: 7035.378 / 0.753\n",
      "Cost / err at iteration i=0, j=30: 6209.496 / 0.744\n",
      "Cost / err at iteration i=1, j=0: 5993.852 / 0.678\n",
      "Cost / err at iteration i=1, j=30: 5470.459 / 0.604\n",
      "Cost / err at iteration i=2, j=0: 5406.865 / 0.602\n",
      "Cost / err at iteration i=2, j=30: 5181.817 / 0.566\n",
      "Cost / err at iteration i=3, j=0: 5112.587 / 0.562\n",
      "Cost / err at iteration i=3, j=30: 4967.577 / 0.542\n",
      "Cost / err at iteration i=4, j=0: 4862.199 / 0.539\n",
      "Cost / err at iteration i=4, j=30: 4770.556 / 0.531\n",
      "Cost / err at iteration i=5, j=0: 4731.295 / 0.515\n",
      "Cost / err at iteration i=5, j=30: 4649.841 / 0.515\n",
      "Cost / err at iteration i=6, j=0: 4771.758 / 0.524\n",
      "Cost / err at iteration i=6, j=30: 4569.655 / 0.499\n",
      "Cost / err at iteration i=7, j=0: 4776.989 / 0.519\n",
      "Cost / err at iteration i=7, j=30: 4548.121 / 0.495\n",
      "Cost / err at iteration i=8, j=0: 4809.881 / 0.518\n",
      "Cost / err at iteration i=8, j=30: 4672.095 / 0.497\n",
      "Cost / err at iteration i=9, j=0: 4933.119 / 0.520\n",
      "Cost / err at iteration i=9, j=30: 4769.802 / 0.497\n",
      "Cost / err at iteration i=10, j=0: 5113.531 / 0.525\n",
      "Cost / err at iteration i=10, j=30: 5262.555 / 0.508\n",
      "Cost / err at iteration i=11, j=0: 5291.781 / 0.524\n",
      "Cost / err at iteration i=11, j=30: 5228.661 / 0.496\n",
      "Elapsed time: 0:19:09.932371\n"
     ]
    },
    {
     "data": {
      "image/png": "[encoded data removed]",
      "text/plain": [
       "<Figure size 432x288 with 1 Axes>"
      ]
     },
     "metadata": {
      "needs_background": "light"
     },
     "output_type": "display_data"
    }
   ],
   "source": [
    "t0 = datetime.now()\n",
    "LL = []\n",
    "W1_val = None\n",
    "W2_val = None\n",
    "init = tf.global_variables_initializer()\n",
    "with tf.Session() as session:\n",
    "    session.run(init)\n",
    "\n",
    "    for i in range(max_iter):\n",
    "        for j in range(n_batches):\n",
    "            Xbatch = Xtrain[j*batch_sz:(j*batch_sz + batch_sz),]\n",
    "            Ybatch = Ytrain[j*batch_sz:(j*batch_sz + batch_sz),]\n",
    "\n",
    "            if len(Xbatch) == batch_sz:\n",
    "                session.run(train_op, feed_dict={X: Xbatch, T: Ybatch})\n",
    "                if j % print_period == 0:\n",
    "                    # due to RAM limitations we need to have a fixed size input\n",
    "                    # so as a result, we have this ugly total cost and prediction computation\n",
    "                    test_cost = 0\n",
    "                    prediction = np.zeros(len(Xpublic_test))\n",
    "                    for k in range(len(Xpublic_test) // batch_sz):\n",
    "                        Xtestbatch = Xpublic_test[k*batch_sz:(k*batch_sz + batch_sz),]\n",
    "                        Ytestbatch = Ypublic_test[k*batch_sz:(k*batch_sz + batch_sz),]\n",
    "                        test_cost += session.run(cost, feed_dict={X: Xtestbatch, T: Ytestbatch})\n",
    "                        prediction[k*batch_sz:(k*batch_sz + batch_sz)] = session.run(\n",
    "                            predict_op, feed_dict={X: Xtestbatch})\n",
    "                    err = error_rate(prediction, Ypublic_test)\n",
    "                    print(\"Cost / err at iteration i=%d, j=%d: %.3f / %.3f\" % (i, j, test_cost, err))\n",
    "                    LL.append(test_cost)\n",
    "\n",
    "    W1_val = W1.eval()\n",
    "    W2_val = W2.eval()\n",
    "print(\"Elapsed time:\", (datetime.now() - t0))\n",
    "plt.plot(LL)\n",
    "plt.show()"
   ]
  },
  {
   "cell_type": "code",
   "execution_count": null,
   "metadata": {},
   "outputs": [],
   "source": []
  }
 ],
 "metadata": {
  "kernelspec": {
   "display_name": "Python 3",
   "language": "python",
   "name": "python3"
  },
  "language_info": {
   "codemirror_mode": {
    "name": "ipython",
    "version": 3
   },
   "file_extension": ".py",
   "mimetype": "text/x-python",
   "name": "python",
   "nbconvert_exporter": "python",
   "pygments_lexer": "ipython3",
   "version": "3.6.6"
  }
 },
 "nbformat": 4,
 "nbformat_minor": 2
}
